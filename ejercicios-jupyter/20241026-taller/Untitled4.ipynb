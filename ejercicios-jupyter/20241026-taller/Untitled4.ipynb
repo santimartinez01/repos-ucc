{
 "cells": [
  {
   "cell_type": "code",
   "execution_count": 1,
   "id": "2623d204-1059-4892-a84b-b2bdcc04529e",
   "metadata": {},
   "outputs": [
    {
     "name": "stdout",
     "output_type": "stream",
     "text": [
      "Collecting fastapi\n",
      "  Downloading fastapi-0.115.4-py3-none-any.whl.metadata (27 kB)\n",
      "Collecting uvicorn\n",
      "  Downloading uvicorn-0.32.0-py3-none-any.whl.metadata (6.6 kB)\n",
      "Collecting starlette<0.42.0,>=0.40.0 (from fastapi)\n",
      "  Downloading starlette-0.41.2-py3-none-any.whl.metadata (6.0 kB)\n",
      "Collecting pydantic!=1.8,!=1.8.1,!=2.0.0,!=2.0.1,!=2.1.0,<3.0.0,>=1.7.4 (from fastapi)\n",
      "  Downloading pydantic-2.9.2-py3-none-any.whl.metadata (149 kB)\n",
      "\u001b[2K     \u001b[90m━━━━━━━━━━━━━━━━━━━━━━━━━━━━━━━━━━━━━━━\u001b[0m \u001b[32m149.4/149.4 kB\u001b[0m \u001b[31m1.0 MB/s\u001b[0m eta \u001b[36m0:00:00\u001b[0ma \u001b[36m0:00:01\u001b[0m\n",
      "\u001b[?25hRequirement already satisfied: typing-extensions>=4.8.0 in /opt/conda/lib/python3.11/site-packages (from fastapi) (4.8.0)\n",
      "Requirement already satisfied: click>=7.0 in /opt/conda/lib/python3.11/site-packages (from uvicorn) (8.1.7)\n",
      "Collecting h11>=0.8 (from uvicorn)\n",
      "  Downloading h11-0.14.0-py3-none-any.whl.metadata (8.2 kB)\n",
      "Collecting annotated-types>=0.6.0 (from pydantic!=1.8,!=1.8.1,!=2.0.0,!=2.0.1,!=2.1.0,<3.0.0,>=1.7.4->fastapi)\n",
      "  Downloading annotated_types-0.7.0-py3-none-any.whl.metadata (15 kB)\n",
      "Collecting pydantic-core==2.23.4 (from pydantic!=1.8,!=1.8.1,!=2.0.0,!=2.0.1,!=2.1.0,<3.0.0,>=1.7.4->fastapi)\n",
      "  Downloading pydantic_core-2.23.4-cp311-cp311-manylinux_2_17_x86_64.manylinux2014_x86_64.whl.metadata (6.6 kB)\n",
      "Requirement already satisfied: anyio<5,>=3.4.0 in /opt/conda/lib/python3.11/site-packages (from starlette<0.42.0,>=0.40.0->fastapi) (4.0.0)\n",
      "Requirement already satisfied: idna>=2.8 in /opt/conda/lib/python3.11/site-packages (from anyio<5,>=3.4.0->starlette<0.42.0,>=0.40.0->fastapi) (3.4)\n",
      "Requirement already satisfied: sniffio>=1.1 in /opt/conda/lib/python3.11/site-packages (from anyio<5,>=3.4.0->starlette<0.42.0,>=0.40.0->fastapi) (1.3.0)\n",
      "Downloading fastapi-0.115.4-py3-none-any.whl (94 kB)\n",
      "\u001b[2K   \u001b[90m━━━━━━━━━━━━━━━━━━━━━━━━━━━━━━━━━━━━━━━━\u001b[0m \u001b[32m94.7/94.7 kB\u001b[0m \u001b[31m3.5 MB/s\u001b[0m eta \u001b[36m0:00:00\u001b[0m\n",
      "\u001b[?25hDownloading uvicorn-0.32.0-py3-none-any.whl (63 kB)\n",
      "\u001b[2K   \u001b[90m━━━━━━━━━━━━━━━━━━━━━━━━━━━━━━━━━━━━━━━━\u001b[0m \u001b[32m63.7/63.7 kB\u001b[0m \u001b[31m2.7 MB/s\u001b[0m eta \u001b[36m0:00:00\u001b[0m\n",
      "\u001b[?25hDownloading h11-0.14.0-py3-none-any.whl (58 kB)\n",
      "\u001b[2K   \u001b[90m━━━━━━━━━━━━━━━━━━━━━━━━━━━━━━━━━━━━━━━━\u001b[0m \u001b[32m58.3/58.3 kB\u001b[0m \u001b[31m2.4 MB/s\u001b[0m eta \u001b[36m0:00:00\u001b[0m\n",
      "\u001b[?25hDownloading pydantic-2.9.2-py3-none-any.whl (434 kB)\n",
      "\u001b[2K   \u001b[90m━━━━━━━━━━━━━━━━━━━━━━━━━━━━━━━━━━━━━━━━\u001b[0m \u001b[32m434.9/434.9 kB\u001b[0m \u001b[31m2.6 MB/s\u001b[0m eta \u001b[36m0:00:00\u001b[0ma \u001b[36m0:00:01\u001b[0m\n",
      "\u001b[?25hDownloading pydantic_core-2.23.4-cp311-cp311-manylinux_2_17_x86_64.manylinux2014_x86_64.whl (2.1 MB)\n",
      "\u001b[2K   \u001b[90m━━━━━━━━━━━━━━━━━━━━━━━━━━━━━━━━━━━━━━━━\u001b[0m \u001b[32m2.1/2.1 MB\u001b[0m \u001b[31m1.6 MB/s\u001b[0m eta \u001b[36m0:00:00\u001b[0m00:01\u001b[0m00:01\u001b[0m\n",
      "\u001b[?25hDownloading starlette-0.41.2-py3-none-any.whl (73 kB)\n",
      "\u001b[2K   \u001b[90m━━━━━━━━━━━━━━━━━━━━━━━━━━━━━━━━━━━━━━━━\u001b[0m \u001b[32m73.3/73.3 kB\u001b[0m \u001b[31m1.4 MB/s\u001b[0m eta \u001b[36m0:00:00\u001b[0ma \u001b[36m0:00:01\u001b[0m\n",
      "\u001b[?25hDownloading annotated_types-0.7.0-py3-none-any.whl (13 kB)\n",
      "Installing collected packages: pydantic-core, h11, annotated-types, uvicorn, starlette, pydantic, fastapi\n",
      "Successfully installed annotated-types-0.7.0 fastapi-0.115.4 h11-0.14.0 pydantic-2.9.2 pydantic-core-2.23.4 starlette-0.41.2 uvicorn-0.32.0\n",
      "Note: you may need to restart the kernel to use updated packages.\n"
     ]
    }
   ],
   "source": [
    "pip install fastapi uvicorn"
   ]
  },
  {
   "cell_type": "code",
   "execution_count": 1,
   "id": "575b9846-7306-470e-9f08-e062d46ec80b",
   "metadata": {},
   "outputs": [],
   "source": [
    "from fastapi import FastAPI, HTTPException\n",
    "from pydantic import BaseModel\n",
    "import joblib\n",
    "import pandas as pd\n",
    "from scipy.sparse import hstack, csr_matrix"
   ]
  },
  {
   "cell_type": "code",
   "execution_count": 2,
   "id": "52d73bbd-5599-4234-90aa-d8a67b83ce62",
   "metadata": {},
   "outputs": [],
   "source": [
    "# Paso 3: Cargar el modelo entrenado y los codificadores\n",
    "model = joblib.load('crime_prediction_model.pkl')\n",
    "onehot_encoder = joblib.load('onehot_encoder.pkl')"
   ]
  },
  {
   "cell_type": "code",
   "execution_count": 3,
   "id": "3f01a64c-4b63-404f-810a-97c0b06a60be",
   "metadata": {},
   "outputs": [],
   "source": [
    "# Paso 4: Definir los modelos de datos para la entrada y salida de la API\n",
    "class CrimePredictionInput(BaseModel):\n",
    "    DATE_OF_OCCURRENCE: str\n",
    "    BLOCK: str\n",
    "    IUCR: str\n",
    "    LOCATION_DESCRIPTION: str\n",
    "    ARREST: str\n",
    "    DOMESTIC: str\n",
    "    BEAT: int\n",
    "    WARD: int\n",
    "\n",
    "class CrimePredictionOutput(BaseModel):\n",
    "    PRIMARY_DESCRIPTION: str"
   ]
  },
  {
   "cell_type": "code",
   "execution_count": 4,
   "id": "6af3090f-7303-4006-b7c6-157eb0e25706",
   "metadata": {},
   "outputs": [],
   "source": [
    "# Paso 5: Inicializar la aplicación FastAPI\n",
    "app = FastAPI()"
   ]
  },
  {
   "cell_type": "code",
   "execution_count": 5,
   "id": "598cdf07-8098-4b7a-93f1-c7c5f418e5b4",
   "metadata": {},
   "outputs": [],
   "source": [
    "# Paso 6: Definir el endpoint para hacer predicciones de crimen\n",
    "@app.post('/predict/')\n",
    "async def predict_crime(data: CrimePredictionInput):\n",
    "    # Convertir los datos de entrada en un DataFrame\n",
    "    input_data = pd.DataFrame([data.dict()])\n",
    "    \n",
    "    # Convertir las fechas al formato adecuado\n",
    "    input_data['Date'] = pd.to_datetime(input_data['Date'], format='%m/%d/%Y %I:%M:%S %p', errors='coerce')\n",
    "\n",
    "    # Extraer características relevantes de las fechas\n",
    "    input_data['YEAR'] = input_data['Date'].dt.year\n",
    "    input_data['MONTH'] = input_data['Date'].dt.month\n",
    "    input_data['DAY'] = input_data['Date'].dt.day\n",
    "    input_data['HOUR'] = input_data['Date'].dt.hour\n",
    "\n",
    "    # Eliminar la columna original de fecha\n",
    "    input_data = input_data.drop(columns=['Date'])\n",
    "    \n",
    "    # Codificar las variables categóricas con OneHotEncoder\n",
    "    input_data_encoded = onehot_encoder.transform(input_data.select_dtypes(include=['object']))\n",
    "\n",
    "    # Combinar las características codificadas con las numéricas\n",
    "    input_data_numerical = input_data.select_dtypes(exclude=['object']).astype(float)\n",
    "    input_data_numerical = csr_matrix(input_data_numerical.values)  # Convertir a matriz dispersa\n",
    "    input_data_combined = hstack((input_data_encoded, input_data_numerical))\n",
    "\n",
    "    # Hacer la predicción\n",
    "    prediction = model.predict(input_data_combined)\n",
    "\n",
    "    # Obtener la descripción primaria del crimen predicho\n",
    "    primary_description = prediction[0]\n",
    "\n",
    "    return CrimePredictionOutput(PRIMARY_DESCRIPTION=primary_description)"
   ]
  },
  {
   "cell_type": "code",
   "execution_count": 6,
   "id": "93eadf71-24e5-4f89-887a-4970975f9801",
   "metadata": {},
   "outputs": [
    {
     "name": "stderr",
     "output_type": "stream",
     "text": [
      "WARNING:  You must pass the application as an import string to enable 'reload' or 'workers'.\n"
     ]
    },
    {
     "ename": "SystemExit",
     "evalue": "1",
     "output_type": "error",
     "traceback": [
      "An exception has occurred, use %tb to see the full traceback.\n",
      "\u001b[0;31mSystemExit\u001b[0m\u001b[0;31m:\u001b[0m 1\n"
     ]
    },
    {
     "name": "stderr",
     "output_type": "stream",
     "text": [
      "/opt/conda/lib/python3.11/site-packages/IPython/core/interactiveshell.py:3534: UserWarning: To exit: use 'exit', 'quit', or Ctrl-D.\n",
      "  warn(\"To exit: use 'exit', 'quit', or Ctrl-D.\", stacklevel=1)\n"
     ]
    }
   ],
   "source": [
    "# Ejecutar la aplicación con Uvicorn en modo de recarga\n",
    "if __name__ == '__main__':\n",
    "    import uvicorn\n",
    "    uvicorn.run(app, host='0.0.0.0', port=8000, reload=True)"
   ]
  },
  {
   "cell_type": "code",
   "execution_count": null,
   "id": "0bc46a3f-30f7-4546-877c-84a6472f8cc4",
   "metadata": {},
   "outputs": [],
   "source": []
  }
 ],
 "metadata": {
  "kernelspec": {
   "display_name": "Python 3 (ipykernel)",
   "language": "python",
   "name": "python3"
  },
  "language_info": {
   "codemirror_mode": {
    "name": "ipython",
    "version": 3
   },
   "file_extension": ".py",
   "mimetype": "text/x-python",
   "name": "python",
   "nbconvert_exporter": "python",
   "pygments_lexer": "ipython3",
   "version": "3.11.6"
  }
 },
 "nbformat": 4,
 "nbformat_minor": 5
}
