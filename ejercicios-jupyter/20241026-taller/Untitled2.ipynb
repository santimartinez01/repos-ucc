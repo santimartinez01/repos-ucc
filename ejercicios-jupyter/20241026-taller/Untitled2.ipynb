{
 "cells": [
  {
   "cell_type": "code",
   "execution_count": 2,
   "id": "995443c1-01f0-4523-ba78-7a45c93a49c8",
   "metadata": {},
   "outputs": [],
   "source": [
    "import numpy as np"
   ]
  },
  {
   "cell_type": "code",
   "execution_count": 3,
   "id": "495d9e4e-84d7-4fd8-8c16-4cee24e76915",
   "metadata": {},
   "outputs": [],
   "source": [
    "import pandas as pd"
   ]
  },
  {
   "cell_type": "code",
   "execution_count": 4,
   "id": "aa1650cc-ec88-400f-819f-594192e95c0c",
   "metadata": {},
   "outputs": [],
   "source": [
    "from sklearn.model_selection import train_test_split"
   ]
  },
  {
   "cell_type": "code",
   "execution_count": 5,
   "id": "a5253cb2-a71a-4661-8a86-ab0da219a50d",
   "metadata": {},
   "outputs": [],
   "source": [
    "from tensorflow.keras.models import Sequential\n",
    "from tensorflow.keras.layers import LSTM, Dense"
   ]
  },
  {
   "cell_type": "code",
   "execution_count": 6,
   "id": "f05dfdeb-b7df-4722-b6d6-7e21c6c6834a",
   "metadata": {},
   "outputs": [],
   "source": [
    "from sklearn.preprocessing import LabelEncoder, StandardScaler"
   ]
  },
  {
   "cell_type": "code",
   "execution_count": 7,
   "id": "ae3f60d7-c312-4775-8712-1de5237d6079",
   "metadata": {},
   "outputs": [],
   "source": [
    "# Cargar los datos\n",
    "data = pd.read_csv('chicago_crimes.csv')"
   ]
  },
  {
   "cell_type": "code",
   "execution_count": 8,
   "id": "b6b7ec01-2dfd-42ec-8d8b-6c20212dd387",
   "metadata": {},
   "outputs": [],
   "source": [
    "# Preprocesamiento de datos\n",
    "data['Date'] = pd.to_datetime(data['Date'], format='%m/%d/%Y %I:%M:%S %p')"
   ]
  },
  {
   "cell_type": "code",
   "execution_count": 9,
   "id": "6c06d631-5f91-40fa-beb5-91bb1b387e83",
   "metadata": {},
   "outputs": [],
   "source": [
    "# Extraer información útil de la fecha\n",
    "data['HOUR'] = data['Date'].dt.hour\n",
    "data['DAY_OF_WEEK'] = data['Date'].dt.dayofweek\n",
    "data['MONTH'] = data['Date'].dt.month"
   ]
  },
  {
   "cell_type": "code",
   "execution_count": 10,
   "id": "05be675e-5f42-4282-b387-a1c1d8f1efb6",
   "metadata": {},
   "outputs": [],
   "source": [
    "# Seleccionar características y etiquetas\n",
    "X = data[['HOUR', 'DAY_OF_WEEK', 'MONTH']].values\n",
    "y = data['Primary Type']"
   ]
  },
  {
   "cell_type": "code",
   "execution_count": 11,
   "id": "1e1634b2-f826-446b-a6ec-7d331a633cb9",
   "metadata": {},
   "outputs": [],
   "source": [
    "# Codificar las etiquetas\n",
    "label_encoder = LabelEncoder()\n",
    "y = label_encoder.fit_transform(y)"
   ]
  },
  {
   "cell_type": "code",
   "execution_count": 12,
   "id": "41b71708-a99a-4bd4-9978-811fedfa4ff8",
   "metadata": {},
   "outputs": [],
   "source": [
    "# Dividir los datos en conjuntos de entrenamiento y prueba\n",
    "X_train, X_test, y_train, y_test = train_test_split(X, y, test_size=0.2, random_state=42)"
   ]
  },
  {
   "cell_type": "code",
   "execution_count": 13,
   "id": "7317b939-b50d-4754-96d2-059330067b6c",
   "metadata": {},
   "outputs": [],
   "source": [
    "# Escalar características\n",
    "scaler = StandardScaler()\n",
    "X_train = scaler.fit_transform(X_train)\n",
    "X_test = scaler.transform(X_test)"
   ]
  },
  {
   "cell_type": "code",
   "execution_count": 14,
   "id": "baf5b21c-8b52-485c-b408-b19662c7170f",
   "metadata": {},
   "outputs": [],
   "source": [
    "# Asegurarse de que los datos estén en el formato correcto para LSTM\n",
    "X_train = np.expand_dims(X_train, axis=-1)\n",
    "X_test = np.expand_dims(X_test, axis=-1)"
   ]
  },
  {
   "cell_type": "code",
   "execution_count": 16,
   "id": "be5eb400-85dc-44d0-bd3c-e9c28ea8fc63",
   "metadata": {},
   "outputs": [],
   "source": [
    "# Construir la red neuronal recurrente (LSTM)\n",
    "model = Sequential([\n",
    "    LSTM(64, input_shape=(X_train.shape[1], X_train.shape[2]), activation='relu', return_sequences=True),\n",
    "    LSTM(32, activation='relu'),\n",
    "    Dense(len(label_encoder.classes_), activation='softmax')\n",
    "])"
   ]
  },
  {
   "cell_type": "code",
   "execution_count": 17,
   "id": "69546b03-235a-4cb5-a401-228bfdd7a704",
   "metadata": {},
   "outputs": [],
   "source": [
    "# Compilar el modelo\n",
    "model.compile(optimizer='adam', loss='sparse_categorical_crossentropy', metrics=['accuracy'])"
   ]
  },
  {
   "cell_type": "code",
   "execution_count": 18,
   "id": "6e261a36-9d6f-403e-81b8-1b4d61301f55",
   "metadata": {},
   "outputs": [],
   "source": [
    "# Convertir y_train y y_test a arrays de NumPy\n",
    "y_train = np.array(y_train)\n",
    "y_test = np.array(y_test)"
   ]
  },
  {
   "cell_type": "code",
   "execution_count": 19,
   "id": "8dbc5d45-e12c-405f-87af-4535caca9169",
   "metadata": {},
   "outputs": [
    {
     "name": "stdout",
     "output_type": "stream",
     "text": [
      "Epoch 1/20\n",
      "\u001b[1m28395/28395\u001b[0m \u001b[32m━━━━━━━━━━━━━━━━━━━━\u001b[0m\u001b[37m\u001b[0m \u001b[1m184s\u001b[0m 6ms/step - accuracy: 0.2204 - loss: 2.3903 - val_accuracy: 0.2253 - val_loss: 2.3555\n",
      "Epoch 2/20\n",
      "\u001b[1m28395/28395\u001b[0m \u001b[32m━━━━━━━━━━━━━━━━━━━━\u001b[0m\u001b[37m\u001b[0m \u001b[1m210s\u001b[0m 7ms/step - accuracy: 0.2287 - loss: 2.3508 - val_accuracy: 0.2309 - val_loss: 2.3448\n",
      "Epoch 3/20\n",
      "\u001b[1m28395/28395\u001b[0m \u001b[32m━━━━━━━━━━━━━━━━━━━━\u001b[0m\u001b[37m\u001b[0m \u001b[1m221s\u001b[0m 8ms/step - accuracy: 0.2297 - loss: 2.3471 - val_accuracy: 0.2312 - val_loss: 2.3430\n",
      "Epoch 4/20\n",
      "\u001b[1m28395/28395\u001b[0m \u001b[32m━━━━━━━━━━━━━━━━━━━━\u001b[0m\u001b[37m\u001b[0m \u001b[1m220s\u001b[0m 8ms/step - accuracy: 0.2307 - loss: 2.3451 - val_accuracy: 0.2308 - val_loss: 2.3421\n",
      "Epoch 5/20\n",
      "\u001b[1m28395/28395\u001b[0m \u001b[32m━━━━━━━━━━━━━━━━━━━━\u001b[0m\u001b[37m\u001b[0m \u001b[1m218s\u001b[0m 8ms/step - accuracy: 0.2301 - loss: 2.3453 - val_accuracy: 0.2308 - val_loss: 2.3410\n",
      "Epoch 6/20\n",
      "\u001b[1m28395/28395\u001b[0m \u001b[32m━━━━━━━━━━━━━━━━━━━━\u001b[0m\u001b[37m\u001b[0m \u001b[1m187s\u001b[0m 7ms/step - accuracy: 0.2307 - loss: 2.3432 - val_accuracy: 0.2307 - val_loss: 2.3410\n",
      "Epoch 7/20\n",
      "\u001b[1m28395/28395\u001b[0m \u001b[32m━━━━━━━━━━━━━━━━━━━━\u001b[0m\u001b[37m\u001b[0m \u001b[1m209s\u001b[0m 7ms/step - accuracy: 0.2303 - loss: 2.3434 - val_accuracy: 0.2310 - val_loss: 2.3404\n",
      "Epoch 8/20\n",
      "\u001b[1m28395/28395\u001b[0m \u001b[32m━━━━━━━━━━━━━━━━━━━━\u001b[0m\u001b[37m\u001b[0m \u001b[1m189s\u001b[0m 7ms/step - accuracy: 0.2299 - loss: 2.3415 - val_accuracy: 0.2306 - val_loss: 2.3401\n",
      "Epoch 9/20\n",
      "\u001b[1m28395/28395\u001b[0m \u001b[32m━━━━━━━━━━━━━━━━━━━━\u001b[0m\u001b[37m\u001b[0m \u001b[1m216s\u001b[0m 8ms/step - accuracy: 0.2309 - loss: 2.3420 - val_accuracy: 0.2310 - val_loss: 2.3402\n",
      "Epoch 10/20\n",
      "\u001b[1m28395/28395\u001b[0m \u001b[32m━━━━━━━━━━━━━━━━━━━━\u001b[0m\u001b[37m\u001b[0m \u001b[1m227s\u001b[0m 8ms/step - accuracy: 0.2302 - loss: 2.3428 - val_accuracy: 0.2319 - val_loss: 2.3396\n",
      "Epoch 11/20\n",
      "\u001b[1m28395/28395\u001b[0m \u001b[32m━━━━━━━━━━━━━━━━━━━━\u001b[0m\u001b[37m\u001b[0m \u001b[1m218s\u001b[0m 8ms/step - accuracy: 0.2298 - loss: 2.3427 - val_accuracy: 0.2315 - val_loss: 2.3395\n",
      "Epoch 12/20\n",
      "\u001b[1m28395/28395\u001b[0m \u001b[32m━━━━━━━━━━━━━━━━━━━━\u001b[0m\u001b[37m\u001b[0m \u001b[1m209s\u001b[0m 7ms/step - accuracy: 0.2305 - loss: 2.3408 - val_accuracy: 0.2318 - val_loss: 2.3398\n",
      "Epoch 13/20\n",
      "\u001b[1m28395/28395\u001b[0m \u001b[32m━━━━━━━━━━━━━━━━━━━━\u001b[0m\u001b[37m\u001b[0m \u001b[1m210s\u001b[0m 7ms/step - accuracy: 0.2305 - loss: 2.3411 - val_accuracy: 0.2316 - val_loss: 2.3395\n",
      "Epoch 14/20\n",
      "\u001b[1m28395/28395\u001b[0m \u001b[32m━━━━━━━━━━━━━━━━━━━━\u001b[0m\u001b[37m\u001b[0m \u001b[1m197s\u001b[0m 7ms/step - accuracy: 0.2311 - loss: 2.3405 - val_accuracy: 0.2313 - val_loss: 2.3402\n",
      "Epoch 15/20\n",
      "\u001b[1m28395/28395\u001b[0m \u001b[32m━━━━━━━━━━━━━━━━━━━━\u001b[0m\u001b[37m\u001b[0m \u001b[1m194s\u001b[0m 7ms/step - accuracy: 0.2315 - loss: 2.3406 - val_accuracy: 0.2312 - val_loss: 2.3388\n",
      "Epoch 16/20\n",
      "\u001b[1m28395/28395\u001b[0m \u001b[32m━━━━━━━━━━━━━━━━━━━━\u001b[0m\u001b[37m\u001b[0m \u001b[1m200s\u001b[0m 7ms/step - accuracy: 0.2304 - loss: 2.3406 - val_accuracy: 0.2304 - val_loss: 2.3403\n",
      "Epoch 17/20\n",
      "\u001b[1m28395/28395\u001b[0m \u001b[32m━━━━━━━━━━━━━━━━━━━━\u001b[0m\u001b[37m\u001b[0m \u001b[1m192s\u001b[0m 7ms/step - accuracy: 0.2304 - loss: 2.3418 - val_accuracy: 0.2317 - val_loss: 2.3389\n",
      "Epoch 18/20\n",
      "\u001b[1m28395/28395\u001b[0m \u001b[32m━━━━━━━━━━━━━━━━━━━━\u001b[0m\u001b[37m\u001b[0m \u001b[1m196s\u001b[0m 7ms/step - accuracy: 0.2305 - loss: 2.3406 - val_accuracy: 0.2317 - val_loss: 2.3390\n",
      "Epoch 19/20\n",
      "\u001b[1m28395/28395\u001b[0m \u001b[32m━━━━━━━━━━━━━━━━━━━━\u001b[0m\u001b[37m\u001b[0m \u001b[1m222s\u001b[0m 8ms/step - accuracy: 0.2314 - loss: 2.3387 - val_accuracy: 0.2303 - val_loss: 2.3408\n",
      "Epoch 20/20\n",
      "\u001b[1m28395/28395\u001b[0m \u001b[32m━━━━━━━━━━━━━━━━━━━━\u001b[0m\u001b[37m\u001b[0m \u001b[1m216s\u001b[0m 8ms/step - accuracy: 0.2312 - loss: 2.3414 - val_accuracy: 0.2315 - val_loss: 2.3393\n"
     ]
    },
    {
     "data": {
      "text/plain": [
       "<keras.src.callbacks.history.History at 0x7f6101263a10>"
      ]
     },
     "execution_count": 19,
     "metadata": {},
     "output_type": "execute_result"
    }
   ],
   "source": [
    "# Ajustar el modelo\n",
    "model.fit(X_train, y_train, epochs=20, batch_size=32, validation_data=(X_test, y_test))"
   ]
  },
  {
   "cell_type": "code",
   "execution_count": 2,
   "id": "28956175-fa6e-4381-ae5d-7fb486e4587e",
   "metadata": {},
   "outputs": [],
   "source": [
    "import pandas as pd\n",
    "import numpy as np\n",
    "from sklearn.model_selection import train_test_split\n",
    "from tensorflow.keras.models import Sequential\n",
    "from tensorflow.keras.layers import Conv1D, MaxPooling1D, Flatten, Dense\n",
    "from sklearn.preprocessing import StandardScaler, LabelEncoder"
   ]
  },
  {
   "cell_type": "code",
   "execution_count": 3,
   "id": "0e9f4daf-88cf-4e1d-8bdf-aa92cba84a12",
   "metadata": {},
   "outputs": [],
   "source": [
    "# Cargar los datos\n",
    "data = pd.read_csv('chicago_crimes.csv')"
   ]
  },
  {
   "cell_type": "code",
   "execution_count": 4,
   "id": "bf8464f1-248e-4a21-9f69-2a0ab1392dc1",
   "metadata": {},
   "outputs": [],
   "source": [
    "# Preprocesamiento de datos\n",
    "data['Date'] = pd.to_datetime(data['Date'], format='%m/%d/%Y %I:%M:%S %p')\n",
    "data = data.sort_values(by='Date')"
   ]
  },
  {
   "cell_type": "code",
   "execution_count": 5,
   "id": "b83e1d90-2c32-4675-94ea-0fc49bcd475f",
   "metadata": {},
   "outputs": [],
   "source": [
    "# Seleccionar características y etiquetas\n",
    "X = data[['Date']].values\n",
    "y = data['Primary Type']"
   ]
  },
  {
   "cell_type": "code",
   "execution_count": 6,
   "id": "73806f61-d1ae-4901-8401-5a1520a14f3c",
   "metadata": {},
   "outputs": [],
   "source": [
    "# Codificar las etiquetas\n",
    "label_encoder = LabelEncoder()\n",
    "y = label_encoder.fit_transform(y)"
   ]
  },
  {
   "cell_type": "code",
   "execution_count": 7,
   "id": "28c0dc34-1555-43f9-b29e-04a1683c24d3",
   "metadata": {},
   "outputs": [],
   "source": [
    "# Dividir los datos en conjuntos de entrenamiento y prueba\n",
    "X_train, X_test, y_train, y_test = train_test_split(X, y, test_size=0.2, shuffle=False)"
   ]
  },
  {
   "cell_type": "code",
   "execution_count": 8,
   "id": "07826da3-0a53-4f04-8b4c-fc4b118e792a",
   "metadata": {},
   "outputs": [],
   "source": [
    "# Escalar características\n",
    "scaler = StandardScaler()\n",
    "X_train = scaler.fit_transform(X_train)\n",
    "X_test = scaler.transform(X_test)"
   ]
  },
  {
   "cell_type": "code",
   "execution_count": 9,
   "id": "2bb4a244-62bb-4ea1-9172-3d16890f641d",
   "metadata": {},
   "outputs": [],
   "source": [
    "# Ajustar las dimensiones para la entrada de CNN (reshape)\n",
    "X_train = X_train.reshape((X_train.shape[0], X_train.shape[1], 1))\n",
    "X_test = X_test.reshape((X_test.shape[0], X_test.shape[1], 1))"
   ]
  },
  {
   "cell_type": "code",
   "execution_count": 10,
   "id": "d36772a8-7937-42ed-adad-9d8f52f938cd",
   "metadata": {},
   "outputs": [
    {
     "name": "stdout",
     "output_type": "stream",
     "text": [
      "(908615, 1, 1)\n",
      "(227154, 1, 1)\n"
     ]
    }
   ],
   "source": [
    "# Verificar la forma de X_train y X_test\n",
    "print(X_train.shape)\n",
    "print(X_test.shape)"
   ]
  },
  {
   "cell_type": "code",
   "execution_count": 12,
   "id": "b2124d6a-f29f-4617-b226-fb0f49f877c9",
   "metadata": {},
   "outputs": [],
   "source": [
    "# Construir la red neuronal convolucional (CNN)\n",
    "model = Sequential([\n",
    "    Conv1D(filters=64, kernel_size=1, activation='relu', input_shape=(X_train.shape[1], 1)),\n",
    "    MaxPooling1D(pool_size=1),  # Ajustar el pool_size a 1 para evitar reducción de dimensiones negativa\n",
    "    Flatten(),\n",
    "    Dense(50, activation='relu'),\n",
    "    Dense(len(label_encoder.classes_), activation='softmax')\n",
    "])"
   ]
  },
  {
   "cell_type": "code",
   "execution_count": 13,
   "id": "6d4ed4ed-f227-4aee-b0ae-fffbcca95a60",
   "metadata": {},
   "outputs": [],
   "source": [
    "# Compilar el modelo\n",
    "model.compile(optimizer='adam', loss='sparse_categorical_crossentropy', metrics=['accuracy'])"
   ]
  },
  {
   "cell_type": "code",
   "execution_count": 14,
   "id": "eee29f1f-18b2-47e3-b1c4-6b738b00f87d",
   "metadata": {},
   "outputs": [
    {
     "name": "stdout",
     "output_type": "stream",
     "text": [
      "Epoch 1/20\n",
      "\u001b[1m28395/28395\u001b[0m \u001b[32m━━━━━━━━━━━━━━━━━━━━\u001b[0m\u001b[37m\u001b[0m \u001b[1m94s\u001b[0m 3ms/step - accuracy: 0.2090 - loss: 2.4111 - val_accuracy: 0.2336 - val_loss: 2.3665\n",
      "Epoch 2/20\n",
      "\u001b[1m28395/28395\u001b[0m \u001b[32m━━━━━━━━━━━━━━━━━━━━\u001b[0m\u001b[37m\u001b[0m \u001b[1m95s\u001b[0m 3ms/step - accuracy: 0.2116 - loss: 2.3904 - val_accuracy: 0.2336 - val_loss: 2.3682\n",
      "Epoch 3/20\n",
      "\u001b[1m28395/28395\u001b[0m \u001b[32m━━━━━━━━━━━━━━━━━━━━\u001b[0m\u001b[37m\u001b[0m \u001b[1m91s\u001b[0m 3ms/step - accuracy: 0.2140 - loss: 2.3850 - val_accuracy: 0.2336 - val_loss: 2.3701\n",
      "Epoch 4/20\n",
      "\u001b[1m28395/28395\u001b[0m \u001b[32m━━━━━━━━━━━━━━━━━━━━\u001b[0m\u001b[37m\u001b[0m \u001b[1m116s\u001b[0m 4ms/step - accuracy: 0.2136 - loss: 2.3859 - val_accuracy: 0.2336 - val_loss: 2.3761\n",
      "Epoch 5/20\n",
      "\u001b[1m28395/28395\u001b[0m \u001b[32m━━━━━━━━━━━━━━━━━━━━\u001b[0m\u001b[37m\u001b[0m \u001b[1m94s\u001b[0m 3ms/step - accuracy: 0.2144 - loss: 2.3857 - val_accuracy: 0.2336 - val_loss: 2.3739\n",
      "Epoch 6/20\n",
      "\u001b[1m28395/28395\u001b[0m \u001b[32m━━━━━━━━━━━━━━━━━━━━\u001b[0m\u001b[37m\u001b[0m \u001b[1m95s\u001b[0m 3ms/step - accuracy: 0.2133 - loss: 2.3855 - val_accuracy: 0.2336 - val_loss: 2.3790\n",
      "Epoch 7/20\n",
      "\u001b[1m28395/28395\u001b[0m \u001b[32m━━━━━━━━━━━━━━━━━━━━\u001b[0m\u001b[37m\u001b[0m \u001b[1m97s\u001b[0m 3ms/step - accuracy: 0.2136 - loss: 2.3869 - val_accuracy: 0.2336 - val_loss: 2.3770\n",
      "Epoch 8/20\n",
      "\u001b[1m28395/28395\u001b[0m \u001b[32m━━━━━━━━━━━━━━━━━━━━\u001b[0m\u001b[37m\u001b[0m \u001b[1m94s\u001b[0m 3ms/step - accuracy: 0.2143 - loss: 2.3842 - val_accuracy: 0.2336 - val_loss: 2.3827\n",
      "Epoch 9/20\n",
      "\u001b[1m28395/28395\u001b[0m \u001b[32m━━━━━━━━━━━━━━━━━━━━\u001b[0m\u001b[37m\u001b[0m \u001b[1m98s\u001b[0m 3ms/step - accuracy: 0.2131 - loss: 2.3860 - val_accuracy: 0.2336 - val_loss: 2.3811\n",
      "Epoch 10/20\n",
      "\u001b[1m28395/28395\u001b[0m \u001b[32m━━━━━━━━━━━━━━━━━━━━\u001b[0m\u001b[37m\u001b[0m \u001b[1m97s\u001b[0m 3ms/step - accuracy: 0.2131 - loss: 2.3846 - val_accuracy: 0.2336 - val_loss: 2.3775\n",
      "Epoch 11/20\n",
      "\u001b[1m28395/28395\u001b[0m \u001b[32m━━━━━━━━━━━━━━━━━━━━\u001b[0m\u001b[37m\u001b[0m \u001b[1m98s\u001b[0m 3ms/step - accuracy: 0.2144 - loss: 2.3826 - val_accuracy: 0.2336 - val_loss: 2.3784\n",
      "Epoch 12/20\n",
      "\u001b[1m28395/28395\u001b[0m \u001b[32m━━━━━━━━━━━━━━━━━━━━\u001b[0m\u001b[37m\u001b[0m \u001b[1m95s\u001b[0m 3ms/step - accuracy: 0.2141 - loss: 2.3836 - val_accuracy: 0.2336 - val_loss: 2.3824\n",
      "Epoch 13/20\n",
      "\u001b[1m28395/28395\u001b[0m \u001b[32m━━━━━━━━━━━━━━━━━━━━\u001b[0m\u001b[37m\u001b[0m \u001b[1m99s\u001b[0m 3ms/step - accuracy: 0.2136 - loss: 2.3837 - val_accuracy: 0.2336 - val_loss: 2.3835\n",
      "Epoch 14/20\n",
      "\u001b[1m28395/28395\u001b[0m \u001b[32m━━━━━━━━━━━━━━━━━━━━\u001b[0m\u001b[37m\u001b[0m \u001b[1m100s\u001b[0m 4ms/step - accuracy: 0.2141 - loss: 2.3848 - val_accuracy: 0.2336 - val_loss: 2.3730\n",
      "Epoch 15/20\n",
      "\u001b[1m28395/28395\u001b[0m \u001b[32m━━━━━━━━━━━━━━━━━━━━\u001b[0m\u001b[37m\u001b[0m \u001b[1m97s\u001b[0m 3ms/step - accuracy: 0.2141 - loss: 2.3861 - val_accuracy: 0.2336 - val_loss: 2.3822\n",
      "Epoch 16/20\n",
      "\u001b[1m28395/28395\u001b[0m \u001b[32m━━━━━━━━━━━━━━━━━━━━\u001b[0m\u001b[37m\u001b[0m \u001b[1m100s\u001b[0m 4ms/step - accuracy: 0.2139 - loss: 2.3841 - val_accuracy: 0.2336 - val_loss: 2.3832\n",
      "Epoch 17/20\n",
      "\u001b[1m28395/28395\u001b[0m \u001b[32m━━━━━━━━━━━━━━━━━━━━\u001b[0m\u001b[37m\u001b[0m \u001b[1m104s\u001b[0m 4ms/step - accuracy: 0.2141 - loss: 2.3849 - val_accuracy: 0.2336 - val_loss: 2.3862\n",
      "Epoch 18/20\n",
      "\u001b[1m28395/28395\u001b[0m \u001b[32m━━━━━━━━━━━━━━━━━━━━\u001b[0m\u001b[37m\u001b[0m \u001b[1m100s\u001b[0m 4ms/step - accuracy: 0.2142 - loss: 2.3856 - val_accuracy: 0.2336 - val_loss: 2.3814\n",
      "Epoch 19/20\n",
      "\u001b[1m28395/28395\u001b[0m \u001b[32m━━━━━━━━━━━━━━━━━━━━\u001b[0m\u001b[37m\u001b[0m \u001b[1m96s\u001b[0m 3ms/step - accuracy: 0.2142 - loss: 2.3839 - val_accuracy: 0.2336 - val_loss: 2.3814\n",
      "Epoch 20/20\n",
      "\u001b[1m28395/28395\u001b[0m \u001b[32m━━━━━━━━━━━━━━━━━━━━\u001b[0m\u001b[37m\u001b[0m \u001b[1m98s\u001b[0m 3ms/step - accuracy: 0.2144 - loss: 2.3841 - val_accuracy: 0.2336 - val_loss: 2.3734\n"
     ]
    },
    {
     "data": {
      "text/plain": [
       "<keras.src.callbacks.history.History at 0x7f2958d806d0>"
      ]
     },
     "execution_count": 14,
     "metadata": {},
     "output_type": "execute_result"
    }
   ],
   "source": [
    "# Ajustar el modelo\n",
    "model.fit(X_train, y_train, epochs=20, batch_size=32, validation_data=(X_test, y_test))"
   ]
  },
  {
   "cell_type": "code",
   "execution_count": 2,
   "id": "004ba43e-4995-40d5-a829-7c9bfd086bef",
   "metadata": {},
   "outputs": [],
   "source": [
    "import pandas as pd\n",
    "import numpy as np\n",
    "from sklearn.model_selection import train_test_split\n",
    "from tensorflow.keras.models import Sequential\n",
    "from tensorflow.keras.layers import SimpleRNN, Dense\n",
    "from sklearn.preprocessing import StandardScaler, LabelEncoder"
   ]
  },
  {
   "cell_type": "code",
   "execution_count": 3,
   "id": "d4d86484-f356-4b8b-9a4d-334ad223c816",
   "metadata": {},
   "outputs": [],
   "source": [
    "# Cargar los datos\n",
    "data = pd.read_csv('chicago_crimes.csv')"
   ]
  },
  {
   "cell_type": "code",
   "execution_count": 4,
   "id": "ec63190f-d9d9-4502-82b6-2432b9a09149",
   "metadata": {},
   "outputs": [],
   "source": [
    "# Preprocesamiento de datos\n",
    "data['Date'] = pd.to_datetime(data['Date'], format='%m/%d/%Y %I:%M:%S %p')\n",
    "data = data.sort_values(by='Date')"
   ]
  },
  {
   "cell_type": "code",
   "execution_count": 5,
   "id": "bf1d7384-6466-4f48-ac67-814997af3d98",
   "metadata": {},
   "outputs": [],
   "source": [
    "# Seleccionar características y etiquetas\n",
    "X = data[['Date']].values\n",
    "y = data['Primary Type']"
   ]
  },
  {
   "cell_type": "code",
   "execution_count": 6,
   "id": "4363b8af-91b9-47ee-9282-1af6cc4fc4bc",
   "metadata": {},
   "outputs": [],
   "source": [
    "# Codificar las etiquetas\n",
    "label_encoder = LabelEncoder()\n",
    "y = label_encoder.fit_transform(y)"
   ]
  },
  {
   "cell_type": "code",
   "execution_count": 7,
   "id": "d2b33558-c96b-4349-9c8b-3eceddc9ac8b",
   "metadata": {},
   "outputs": [],
   "source": [
    "# Dividir los datos en conjuntos de entrenamiento y prueba\n",
    "X_train, X_test, y_train, y_test = train_test_split(X, y, test_size=0.2, shuffle=False)"
   ]
  },
  {
   "cell_type": "code",
   "execution_count": 8,
   "id": "89dadb94-5eb9-40f4-9bed-b07fbb6d52e6",
   "metadata": {},
   "outputs": [],
   "source": [
    "# Escalar características\n",
    "scaler = StandardScaler()\n",
    "X_train = scaler.fit_transform(X_train)\n",
    "X_test = scaler.transform(X_test)"
   ]
  },
  {
   "cell_type": "code",
   "execution_count": 9,
   "id": "63fd480d-6f94-4de3-87b8-07b0cdd27d69",
   "metadata": {},
   "outputs": [],
   "source": [
    "# Ajustar las dimensiones para la entrada de ARNN (reshape)\n",
    "X_train = X_train.reshape((X_train.shape[0], X_train.shape[1], 1))\n",
    "X_test = X_test.reshape((X_test.shape[0], X_test.shape[1], 1))"
   ]
  },
  {
   "cell_type": "code",
   "execution_count": 10,
   "id": "41e875c8-2e3f-4c0f-bea3-55ba288a91d1",
   "metadata": {},
   "outputs": [
    {
     "name": "stdout",
     "output_type": "stream",
     "text": [
      "(908615, 1, 1)\n",
      "(227154, 1, 1)\n"
     ]
    }
   ],
   "source": [
    "# Verificar la forma de X_train y X_test\n",
    "print(X_train.shape)\n",
    "print(X_test.shape)"
   ]
  },
  {
   "cell_type": "code",
   "execution_count": 12,
   "id": "1a883455-0135-4379-b6ac-a35998e51b66",
   "metadata": {},
   "outputs": [],
   "source": [
    "# Construir la red neuronal auto-recurrente (ARNN)\n",
    "model = Sequential([\n",
    "    SimpleRNN(64, input_shape=(X_train.shape[1], 1), activation='relu', return_sequences=True),\n",
    "    SimpleRNN(32, activation='relu'),\n",
    "    Dense(len(label_encoder.classes_), activation='softmax')\n",
    "])"
   ]
  },
  {
   "cell_type": "code",
   "execution_count": 13,
   "id": "23aa8937-46b9-4a3c-89d1-43088ed2855c",
   "metadata": {},
   "outputs": [],
   "source": [
    "# Compilar el modelo\n",
    "model.compile(optimizer='adam', loss='sparse_categorical_crossentropy', metrics=['accuracy'])"
   ]
  },
  {
   "cell_type": "code",
   "execution_count": 14,
   "id": "b198cc11-9e28-4ece-8138-81f1ac25113e",
   "metadata": {},
   "outputs": [],
   "source": [
    "# Convertir y_train y y_test a arrays de NumPy\n",
    "y_train = np.array(y_train)\n",
    "y_test = np.array(y_test)"
   ]
  },
  {
   "cell_type": "code",
   "execution_count": 15,
   "id": "53a541d4-2798-436f-9a19-337169cc40f5",
   "metadata": {},
   "outputs": [
    {
     "name": "stdout",
     "output_type": "stream",
     "text": [
      "Epoch 1/20\n",
      "\u001b[1m28395/28395\u001b[0m \u001b[32m━━━━━━━━━━━━━━━━━━━━\u001b[0m\u001b[37m\u001b[0m \u001b[1m100s\u001b[0m 4ms/step - accuracy: 0.2094 - loss: 2.4120 - val_accuracy: 0.2336 - val_loss: 2.3649\n",
      "Epoch 2/20\n",
      "\u001b[1m28395/28395\u001b[0m \u001b[32m━━━━━━━━━━━━━━━━━━━━\u001b[0m\u001b[37m\u001b[0m \u001b[1m99s\u001b[0m 3ms/step - accuracy: 0.2117 - loss: 2.3904 - val_accuracy: 0.2336 - val_loss: 2.3622\n",
      "Epoch 3/20\n",
      "\u001b[1m28395/28395\u001b[0m \u001b[32m━━━━━━━━━━━━━━━━━━━━\u001b[0m\u001b[37m\u001b[0m \u001b[1m103s\u001b[0m 4ms/step - accuracy: 0.2133 - loss: 2.3888 - val_accuracy: 0.2336 - val_loss: 2.3660\n",
      "Epoch 4/20\n",
      "\u001b[1m28395/28395\u001b[0m \u001b[32m━━━━━━━━━━━━━━━━━━━━\u001b[0m\u001b[37m\u001b[0m \u001b[1m110s\u001b[0m 4ms/step - accuracy: 0.2128 - loss: 2.3866 - val_accuracy: 0.2336 - val_loss: 2.3649\n",
      "Epoch 5/20\n",
      "\u001b[1m28395/28395\u001b[0m \u001b[32m━━━━━━━━━━━━━━━━━━━━\u001b[0m\u001b[37m\u001b[0m \u001b[1m113s\u001b[0m 4ms/step - accuracy: 0.2147 - loss: 2.3858 - val_accuracy: 0.2336 - val_loss: 2.3686\n",
      "Epoch 6/20\n",
      "\u001b[1m28395/28395\u001b[0m \u001b[32m━━━━━━━━━━━━━━━━━━━━\u001b[0m\u001b[37m\u001b[0m \u001b[1m111s\u001b[0m 4ms/step - accuracy: 0.2141 - loss: 2.3856 - val_accuracy: 0.2336 - val_loss: 2.3707\n",
      "Epoch 7/20\n",
      "\u001b[1m28395/28395\u001b[0m \u001b[32m━━━━━━━━━━━━━━━━━━━━\u001b[0m\u001b[37m\u001b[0m \u001b[1m111s\u001b[0m 4ms/step - accuracy: 0.2131 - loss: 2.3861 - val_accuracy: 0.2336 - val_loss: 2.3694\n",
      "Epoch 8/20\n",
      "\u001b[1m28395/28395\u001b[0m \u001b[32m━━━━━━━━━━━━━━━━━━━━\u001b[0m\u001b[37m\u001b[0m \u001b[1m112s\u001b[0m 4ms/step - accuracy: 0.2138 - loss: 2.3867 - val_accuracy: 0.2336 - val_loss: 2.3781\n",
      "Epoch 9/20\n",
      "\u001b[1m28395/28395\u001b[0m \u001b[32m━━━━━━━━━━━━━━━━━━━━\u001b[0m\u001b[37m\u001b[0m \u001b[1m112s\u001b[0m 4ms/step - accuracy: 0.2136 - loss: 2.3855 - val_accuracy: 0.2336 - val_loss: 2.3774\n",
      "Epoch 10/20\n",
      "\u001b[1m28395/28395\u001b[0m \u001b[32m━━━━━━━━━━━━━━━━━━━━\u001b[0m\u001b[37m\u001b[0m \u001b[1m117s\u001b[0m 4ms/step - accuracy: 0.2139 - loss: 2.3850 - val_accuracy: 0.2336 - val_loss: 2.3838\n",
      "Epoch 11/20\n",
      "\u001b[1m28395/28395\u001b[0m \u001b[32m━━━━━━━━━━━━━━━━━━━━\u001b[0m\u001b[37m\u001b[0m \u001b[1m111s\u001b[0m 4ms/step - accuracy: 0.2139 - loss: 2.3846 - val_accuracy: 0.2336 - val_loss: 2.3678\n",
      "Epoch 12/20\n",
      "\u001b[1m28395/28395\u001b[0m \u001b[32m━━━━━━━━━━━━━━━━━━━━\u001b[0m\u001b[37m\u001b[0m \u001b[1m113s\u001b[0m 4ms/step - accuracy: 0.2139 - loss: 2.3850 - val_accuracy: 0.2336 - val_loss: 2.3732\n",
      "Epoch 13/20\n",
      "\u001b[1m28395/28395\u001b[0m \u001b[32m━━━━━━━━━━━━━━━━━━━━\u001b[0m\u001b[37m\u001b[0m \u001b[1m115s\u001b[0m 4ms/step - accuracy: 0.2145 - loss: 2.3852 - val_accuracy: 0.2336 - val_loss: 2.3702\n",
      "Epoch 14/20\n",
      "\u001b[1m28395/28395\u001b[0m \u001b[32m━━━━━━━━━━━━━━━━━━━━\u001b[0m\u001b[37m\u001b[0m \u001b[1m113s\u001b[0m 4ms/step - accuracy: 0.2138 - loss: 2.3861 - val_accuracy: 0.2336 - val_loss: 2.3762\n",
      "Epoch 15/20\n",
      "\u001b[1m28395/28395\u001b[0m \u001b[32m━━━━━━━━━━━━━━━━━━━━\u001b[0m\u001b[37m\u001b[0m \u001b[1m113s\u001b[0m 4ms/step - accuracy: 0.2136 - loss: 2.3861 - val_accuracy: 0.2336 - val_loss: 2.3789\n",
      "Epoch 16/20\n",
      "\u001b[1m28395/28395\u001b[0m \u001b[32m━━━━━━━━━━━━━━━━━━━━\u001b[0m\u001b[37m\u001b[0m \u001b[1m114s\u001b[0m 4ms/step - accuracy: 0.2139 - loss: 2.3856 - val_accuracy: 0.2336 - val_loss: 2.3791\n",
      "Epoch 17/20\n",
      "\u001b[1m28395/28395\u001b[0m \u001b[32m━━━━━━━━━━━━━━━━━━━━\u001b[0m\u001b[37m\u001b[0m \u001b[1m114s\u001b[0m 4ms/step - accuracy: 0.2137 - loss: 2.3859 - val_accuracy: 0.2336 - val_loss: 2.3843\n",
      "Epoch 18/20\n",
      "\u001b[1m28395/28395\u001b[0m \u001b[32m━━━━━━━━━━━━━━━━━━━━\u001b[0m\u001b[37m\u001b[0m \u001b[1m118s\u001b[0m 4ms/step - accuracy: 0.2138 - loss: 2.3843 - val_accuracy: 0.2336 - val_loss: 2.3738\n",
      "Epoch 19/20\n",
      "\u001b[1m28395/28395\u001b[0m \u001b[32m━━━━━━━━━━━━━━━━━━━━\u001b[0m\u001b[37m\u001b[0m \u001b[1m117s\u001b[0m 4ms/step - accuracy: 0.2146 - loss: 2.3848 - val_accuracy: 0.2336 - val_loss: 2.3756\n",
      "Epoch 20/20\n",
      "\u001b[1m28395/28395\u001b[0m \u001b[32m━━━━━━━━━━━━━━━━━━━━\u001b[0m\u001b[37m\u001b[0m \u001b[1m119s\u001b[0m 4ms/step - accuracy: 0.2135 - loss: 2.3842 - val_accuracy: 0.2336 - val_loss: 2.3888\n"
     ]
    },
    {
     "data": {
      "text/plain": [
       "<keras.src.callbacks.history.History at 0x7f2b40084510>"
      ]
     },
     "execution_count": 15,
     "metadata": {},
     "output_type": "execute_result"
    }
   ],
   "source": [
    "# Ajustar el modelo\n",
    "model.fit(X_train, y_train, epochs=20, batch_size=32, validation_data=(X_test, y_test))"
   ]
  },
  {
   "cell_type": "code",
   "execution_count": 2,
   "id": "e18ef0e4-49a0-43d6-a2bb-e484fe6906e7",
   "metadata": {},
   "outputs": [],
   "source": [
    "import pandas as pd\n",
    "from sklearn.model_selection import train_test_split\n",
    "from tensorflow.keras.models import Sequential\n",
    "from tensorflow.keras.layers import Dense\n",
    "from sklearn.preprocessing import StandardScaler"
   ]
  },
  {
   "cell_type": "code",
   "execution_count": 3,
   "id": "0fb87c6e-81ee-48f5-a7af-df823c2b8e50",
   "metadata": {},
   "outputs": [],
   "source": [
    "# Cargar los datos\n",
    "data = pd.read_csv('chicago_crimes.csv')"
   ]
  },
  {
   "cell_type": "code",
   "execution_count": 4,
   "id": "7d8f6df2-f6e0-406d-8e61-7183422ab6ab",
   "metadata": {},
   "outputs": [],
   "source": [
    "# Seleccionar características y etiquetas\n",
    "X = data[['X Coordinate', 'Y Coordinate']].values\n",
    "y_latitude = data['Latitude'].values\n",
    "y_longitude = data['Longitude'].values"
   ]
  },
  {
   "cell_type": "code",
   "execution_count": 5,
   "id": "454416d7-2b98-4ade-84e5-8312379555fc",
   "metadata": {},
   "outputs": [],
   "source": [
    "# Dividir los datos en conjuntos de entrenamiento y prueba\n",
    "X_train, X_test, y_lat_train, y_lat_test, y_long_train, y_long_test = train_test_split(\n",
    " X, y_latitude, y_longitude, test_size=0.2, random_state=42\n",
    ")"
   ]
  },
  {
   "cell_type": "code",
   "execution_count": 6,
   "id": "5fe5e3dd-1a2f-4d2b-9fd2-9330035864a6",
   "metadata": {},
   "outputs": [],
   "source": [
    "# Escalar características\n",
    "scaler = StandardScaler()\n",
    "X_train = scaler.fit_transform(X_train)\n",
    "X_test = scaler.transform(X_test)"
   ]
  },
  {
   "cell_type": "code",
   "execution_count": 8,
   "id": "a55f3a9d-03eb-4fcc-bf2b-966d5427409e",
   "metadata": {},
   "outputs": [],
   "source": [
    "# Construir la red neuronal profunda (DNN)\n",
    "model_lat = Sequential([\n",
    " Dense(64, activation='relu', input_shape=(X_train.shape[1],)),\n",
    " Dense(32, activation='relu'),\n",
    " Dense(1)\n",
    "])"
   ]
  },
  {
   "cell_type": "code",
   "execution_count": 9,
   "id": "a88531cf-1180-4c45-b983-ea1f3b040122",
   "metadata": {},
   "outputs": [],
   "source": [
    "model_long = Sequential([\n",
    " Dense(64, activation='relu', input_shape=(X_train.shape[1],)),\n",
    " Dense(32, activation='relu'),\n",
    " Dense(1)\n",
    "])"
   ]
  },
  {
   "cell_type": "code",
   "execution_count": 10,
   "id": "8df6aeff-1816-46bb-b48d-9e92ac8090d2",
   "metadata": {},
   "outputs": [],
   "source": [
    "# Compilar el modelo\n",
    "model_lat.compile(optimizer='adam', loss='mse')\n",
    "model_long.compile(optimizer='adam', loss='mse')"
   ]
  },
  {
   "cell_type": "code",
   "execution_count": 11,
   "id": "7e856f81-4bc2-4301-8460-79142b8ee911",
   "metadata": {},
   "outputs": [
    {
     "name": "stdout",
     "output_type": "stream",
     "text": [
      "Epoch 1/20\n",
      "\u001b[1m28395/28395\u001b[0m \u001b[32m━━━━━━━━━━━━━━━━━━━━\u001b[0m\u001b[37m\u001b[0m \u001b[1m67s\u001b[0m 2ms/step - loss: nan - val_loss: nan\n",
      "Epoch 2/20\n",
      "\u001b[1m28395/28395\u001b[0m \u001b[32m━━━━━━━━━━━━━━━━━━━━\u001b[0m\u001b[37m\u001b[0m \u001b[1m69s\u001b[0m 2ms/step - loss: nan - val_loss: nan\n",
      "Epoch 3/20\n",
      "\u001b[1m28395/28395\u001b[0m \u001b[32m━━━━━━━━━━━━━━━━━━━━\u001b[0m\u001b[37m\u001b[0m \u001b[1m70s\u001b[0m 2ms/step - loss: nan - val_loss: nan\n",
      "Epoch 4/20\n",
      "\u001b[1m28395/28395\u001b[0m \u001b[32m━━━━━━━━━━━━━━━━━━━━\u001b[0m\u001b[37m\u001b[0m \u001b[1m66s\u001b[0m 2ms/step - loss: nan - val_loss: nan\n",
      "Epoch 5/20\n",
      "\u001b[1m28395/28395\u001b[0m \u001b[32m━━━━━━━━━━━━━━━━━━━━\u001b[0m\u001b[37m\u001b[0m \u001b[1m72s\u001b[0m 3ms/step - loss: nan - val_loss: nan\n",
      "Epoch 6/20\n",
      "\u001b[1m28395/28395\u001b[0m \u001b[32m━━━━━━━━━━━━━━━━━━━━\u001b[0m\u001b[37m\u001b[0m \u001b[1m74s\u001b[0m 3ms/step - loss: nan - val_loss: nan\n",
      "Epoch 7/20\n",
      "\u001b[1m28395/28395\u001b[0m \u001b[32m━━━━━━━━━━━━━━━━━━━━\u001b[0m\u001b[37m\u001b[0m \u001b[1m78s\u001b[0m 3ms/step - loss: nan - val_loss: nan\n",
      "Epoch 8/20\n",
      "\u001b[1m28395/28395\u001b[0m \u001b[32m━━━━━━━━━━━━━━━━━━━━\u001b[0m\u001b[37m\u001b[0m \u001b[1m75s\u001b[0m 3ms/step - loss: nan - val_loss: nan\n",
      "Epoch 9/20\n",
      "\u001b[1m28395/28395\u001b[0m \u001b[32m━━━━━━━━━━━━━━━━━━━━\u001b[0m\u001b[37m\u001b[0m \u001b[1m80s\u001b[0m 3ms/step - loss: nan - val_loss: nan\n",
      "Epoch 10/20\n",
      "\u001b[1m28395/28395\u001b[0m \u001b[32m━━━━━━━━━━━━━━━━━━━━\u001b[0m\u001b[37m\u001b[0m \u001b[1m75s\u001b[0m 3ms/step - loss: nan - val_loss: nan\n",
      "Epoch 11/20\n",
      "\u001b[1m28395/28395\u001b[0m \u001b[32m━━━━━━━━━━━━━━━━━━━━\u001b[0m\u001b[37m\u001b[0m \u001b[1m77s\u001b[0m 3ms/step - loss: nan - val_loss: nan\n",
      "Epoch 12/20\n",
      "\u001b[1m28395/28395\u001b[0m \u001b[32m━━━━━━━━━━━━━━━━━━━━\u001b[0m\u001b[37m\u001b[0m \u001b[1m79s\u001b[0m 3ms/step - loss: nan - val_loss: nan\n",
      "Epoch 13/20\n",
      "\u001b[1m28395/28395\u001b[0m \u001b[32m━━━━━━━━━━━━━━━━━━━━\u001b[0m\u001b[37m\u001b[0m \u001b[1m78s\u001b[0m 3ms/step - loss: nan - val_loss: nan\n",
      "Epoch 14/20\n",
      "\u001b[1m28395/28395\u001b[0m \u001b[32m━━━━━━━━━━━━━━━━━━━━\u001b[0m\u001b[37m\u001b[0m \u001b[1m78s\u001b[0m 3ms/step - loss: nan - val_loss: nan\n",
      "Epoch 15/20\n",
      "\u001b[1m28395/28395\u001b[0m \u001b[32m━━━━━━━━━━━━━━━━━━━━\u001b[0m\u001b[37m\u001b[0m \u001b[1m81s\u001b[0m 3ms/step - loss: nan - val_loss: nan\n",
      "Epoch 16/20\n",
      "\u001b[1m28395/28395\u001b[0m \u001b[32m━━━━━━━━━━━━━━━━━━━━\u001b[0m\u001b[37m\u001b[0m \u001b[1m76s\u001b[0m 3ms/step - loss: nan - val_loss: nan\n",
      "Epoch 17/20\n",
      "\u001b[1m28395/28395\u001b[0m \u001b[32m━━━━━━━━━━━━━━━━━━━━\u001b[0m\u001b[37m\u001b[0m \u001b[1m78s\u001b[0m 3ms/step - loss: nan - val_loss: nan\n",
      "Epoch 18/20\n",
      "\u001b[1m28395/28395\u001b[0m \u001b[32m━━━━━━━━━━━━━━━━━━━━\u001b[0m\u001b[37m\u001b[0m \u001b[1m80s\u001b[0m 3ms/step - loss: nan - val_loss: nan\n",
      "Epoch 19/20\n",
      "\u001b[1m28395/28395\u001b[0m \u001b[32m━━━━━━━━━━━━━━━━━━━━\u001b[0m\u001b[37m\u001b[0m \u001b[1m77s\u001b[0m 3ms/step - loss: nan - val_loss: nan\n",
      "Epoch 20/20\n",
      "\u001b[1m28395/28395\u001b[0m \u001b[32m━━━━━━━━━━━━━━━━━━━━\u001b[0m\u001b[37m\u001b[0m \u001b[1m79s\u001b[0m 3ms/step - loss: nan - val_loss: nan\n",
      "Epoch 1/20\n",
      "\u001b[1m28395/28395\u001b[0m \u001b[32m━━━━━━━━━━━━━━━━━━━━\u001b[0m\u001b[37m\u001b[0m \u001b[1m83s\u001b[0m 3ms/step - loss: nan - val_loss: nan\n",
      "Epoch 2/20\n",
      "\u001b[1m28395/28395\u001b[0m \u001b[32m━━━━━━━━━━━━━━━━━━━━\u001b[0m\u001b[37m\u001b[0m \u001b[1m79s\u001b[0m 3ms/step - loss: nan - val_loss: nan\n",
      "Epoch 3/20\n",
      "\u001b[1m28395/28395\u001b[0m \u001b[32m━━━━━━━━━━━━━━━━━━━━\u001b[0m\u001b[37m\u001b[0m \u001b[1m79s\u001b[0m 3ms/step - loss: nan - val_loss: nan\n",
      "Epoch 4/20\n",
      "\u001b[1m28395/28395\u001b[0m \u001b[32m━━━━━━━━━━━━━━━━━━━━\u001b[0m\u001b[37m\u001b[0m \u001b[1m79s\u001b[0m 3ms/step - loss: nan - val_loss: nan\n",
      "Epoch 5/20\n",
      "\u001b[1m28395/28395\u001b[0m \u001b[32m━━━━━━━━━━━━━━━━━━━━\u001b[0m\u001b[37m\u001b[0m \u001b[1m82s\u001b[0m 3ms/step - loss: nan - val_loss: nan\n",
      "Epoch 6/20\n",
      "\u001b[1m28395/28395\u001b[0m \u001b[32m━━━━━━━━━━━━━━━━━━━━\u001b[0m\u001b[37m\u001b[0m \u001b[1m79s\u001b[0m 3ms/step - loss: nan - val_loss: nan\n",
      "Epoch 7/20\n",
      "\u001b[1m28395/28395\u001b[0m \u001b[32m━━━━━━━━━━━━━━━━━━━━\u001b[0m\u001b[37m\u001b[0m \u001b[1m79s\u001b[0m 3ms/step - loss: nan - val_loss: nan\n",
      "Epoch 8/20\n",
      "\u001b[1m28395/28395\u001b[0m \u001b[32m━━━━━━━━━━━━━━━━━━━━\u001b[0m\u001b[37m\u001b[0m \u001b[1m82s\u001b[0m 3ms/step - loss: nan - val_loss: nan\n",
      "Epoch 9/20\n",
      "\u001b[1m28395/28395\u001b[0m \u001b[32m━━━━━━━━━━━━━━━━━━━━\u001b[0m\u001b[37m\u001b[0m \u001b[1m78s\u001b[0m 3ms/step - loss: nan - val_loss: nan\n",
      "Epoch 10/20\n",
      "\u001b[1m28395/28395\u001b[0m \u001b[32m━━━━━━━━━━━━━━━━━━━━\u001b[0m\u001b[37m\u001b[0m \u001b[1m85s\u001b[0m 3ms/step - loss: nan - val_loss: nan\n",
      "Epoch 11/20\n",
      "\u001b[1m28395/28395\u001b[0m \u001b[32m━━━━━━━━━━━━━━━━━━━━\u001b[0m\u001b[37m\u001b[0m \u001b[1m80s\u001b[0m 3ms/step - loss: nan - val_loss: nan\n",
      "Epoch 12/20\n",
      "\u001b[1m28395/28395\u001b[0m \u001b[32m━━━━━━━━━━━━━━━━━━━━\u001b[0m\u001b[37m\u001b[0m \u001b[1m83s\u001b[0m 3ms/step - loss: nan - val_loss: nan\n",
      "Epoch 13/20\n",
      "\u001b[1m28395/28395\u001b[0m \u001b[32m━━━━━━━━━━━━━━━━━━━━\u001b[0m\u001b[37m\u001b[0m \u001b[1m80s\u001b[0m 3ms/step - loss: nan - val_loss: nan\n",
      "Epoch 14/20\n",
      "\u001b[1m28395/28395\u001b[0m \u001b[32m━━━━━━━━━━━━━━━━━━━━\u001b[0m\u001b[37m\u001b[0m \u001b[1m80s\u001b[0m 3ms/step - loss: nan - val_loss: nan\n",
      "Epoch 15/20\n",
      "\u001b[1m28395/28395\u001b[0m \u001b[32m━━━━━━━━━━━━━━━━━━━━\u001b[0m\u001b[37m\u001b[0m \u001b[1m81s\u001b[0m 3ms/step - loss: nan - val_loss: nan\n",
      "Epoch 16/20\n",
      "\u001b[1m28395/28395\u001b[0m \u001b[32m━━━━━━━━━━━━━━━━━━━━\u001b[0m\u001b[37m\u001b[0m \u001b[1m77s\u001b[0m 3ms/step - loss: nan - val_loss: nan\n",
      "Epoch 17/20\n",
      "\u001b[1m28395/28395\u001b[0m \u001b[32m━━━━━━━━━━━━━━━━━━━━\u001b[0m\u001b[37m\u001b[0m \u001b[1m86s\u001b[0m 3ms/step - loss: nan - val_loss: nan\n",
      "Epoch 18/20\n",
      "\u001b[1m28395/28395\u001b[0m \u001b[32m━━━━━━━━━━━━━━━━━━━━\u001b[0m\u001b[37m\u001b[0m \u001b[1m82s\u001b[0m 3ms/step - loss: nan - val_loss: nan\n",
      "Epoch 19/20\n",
      "\u001b[1m28395/28395\u001b[0m \u001b[32m━━━━━━━━━━━━━━━━━━━━\u001b[0m\u001b[37m\u001b[0m \u001b[1m85s\u001b[0m 3ms/step - loss: nan - val_loss: nan\n",
      "Epoch 20/20\n",
      "\u001b[1m28395/28395\u001b[0m \u001b[32m━━━━━━━━━━━━━━━━━━━━\u001b[0m\u001b[37m\u001b[0m \u001b[1m88s\u001b[0m 3ms/step - loss: nan - val_loss: nan\n"
     ]
    },
    {
     "data": {
      "text/plain": [
       "<keras.src.callbacks.history.History at 0x7f970fa91110>"
      ]
     },
     "execution_count": 11,
     "metadata": {},
     "output_type": "execute_result"
    }
   ],
   "source": [
    "# Ajustar el modelo\n",
    "model_lat.fit(X_train, y_lat_train, epochs=20, batch_size=32, validation_data=(X_test,\n",
    "y_lat_test))\n",
    "model_long.fit(X_train, y_long_train, epochs=20, batch_size=32, validation_data=(X_test,\n",
    "y_long_test))"
   ]
  },
  {
   "cell_type": "code",
   "execution_count": 2,
   "id": "62cfd7a7-9ba0-4fec-87ae-6fa42dc6bc51",
   "metadata": {},
   "outputs": [],
   "source": [
    "import pandas as pd\n",
    "from sklearn.model_selection import train_test_split\n",
    "from tensorflow.keras.models import Sequential\n",
    "from tensorflow.keras.layers import LSTM, Dense, Embedding\n",
    "from tensorflow.keras.preprocessing.text import Tokenizer\n",
    "from tensorflow.keras.preprocessing.sequence import pad_sequences\n",
    "from sklearn.preprocessing import LabelEncoder"
   ]
  },
  {
   "cell_type": "code",
   "execution_count": 3,
   "id": "236021de-5554-4298-83dc-e9fb6be5528e",
   "metadata": {},
   "outputs": [],
   "source": [
    "# Cargar los datos\n",
    "data = pd.read_csv('chicago_crimes.csv')"
   ]
  },
  {
   "cell_type": "code",
   "execution_count": 4,
   "id": "239c025f-6d57-4716-b117-3c101d082acd",
   "metadata": {},
   "outputs": [],
   "source": [
    "# Preprocesamiento de datos\n",
    "X_title = data['Primary Type'].values\n",
    "X_location = data['Location Description'].values\n",
    "y = data['Description'].values"
   ]
  },
  {
   "cell_type": "code",
   "execution_count": 5,
   "id": "9c2c0573-bd8e-4085-9664-099432e83d4f",
   "metadata": {},
   "outputs": [],
   "source": [
    "# Convertir todos los valores de X_location a cadenas de texto\n",
    "X_location = X_location.astype(str)"
   ]
  },
  {
   "cell_type": "code",
   "execution_count": 6,
   "id": "db0314a5-34ec-4947-baae-881f8c0f0cc0",
   "metadata": {},
   "outputs": [],
   "source": [
    "# Codificar etiquetas\n",
    "label_encoder = LabelEncoder()\n",
    "y = label_encoder.fit_transform(y)"
   ]
  },
  {
   "cell_type": "code",
   "execution_count": 7,
   "id": "4d470d5f-069a-4485-84cc-9b9eac8aca88",
   "metadata": {},
   "outputs": [],
   "source": [
    "# Tokenización de texto\n",
    "max_len = 50\n",
    "vocab_size = 10000  # Número máximo de palabras en el vocabulario\n",
    "embedding_dim = 64  # Dimensión de los vectores de embedding"
   ]
  },
  {
   "cell_type": "code",
   "execution_count": 8,
   "id": "141de87b-f6e5-43ff-8d72-66322d305fd7",
   "metadata": {},
   "outputs": [],
   "source": [
    "tokenizer = Tokenizer(num_words=vocab_size)\n",
    "tokenizer.fit_on_texts(X_title)\n",
    "X_title_sequences = tokenizer.texts_to_sequences(X_title)\n",
    "X_title_padded = pad_sequences(X_title_sequences, maxlen=max_len)"
   ]
  },
  {
   "cell_type": "code",
   "execution_count": 9,
   "id": "ee8a175d-f4d3-44cd-b07b-052793cf2560",
   "metadata": {},
   "outputs": [],
   "source": [
    "tokenizer.fit_on_texts(X_location)\n",
    "X_location_sequences = tokenizer.texts_to_sequences(X_location)\n",
    "X_location_padded = pad_sequences(X_location_sequences, maxlen=max_len)"
   ]
  },
  {
   "cell_type": "code",
   "execution_count": 11,
   "id": "ebd38d6d-a62c-4aff-b5b6-7dc0a95e6ae0",
   "metadata": {},
   "outputs": [],
   "source": [
    "import numpy as np # Asegurarse de importar numpy"
   ]
  },
  {
   "cell_type": "code",
   "execution_count": 12,
   "id": "0e42ced3-ca82-498e-b3ad-02f5dab871a8",
   "metadata": {},
   "outputs": [],
   "source": [
    "# Concatenar los features si es necesario\n",
    "X_padded = np.hstack((X_title_padded, X_location_padded))"
   ]
  },
  {
   "cell_type": "code",
   "execution_count": 13,
   "id": "1815b00e-1fd1-43e6-8b49-d4e028f7d79d",
   "metadata": {},
   "outputs": [],
   "source": [
    "# Dividir los datos en conjuntos de entrenamiento y prueba\n",
    "X_train, X_test, y_train, y_test = train_test_split(X_padded, y, test_size=0.2, random_state=42)"
   ]
  },
  {
   "cell_type": "code",
   "execution_count": 15,
   "id": "a1e27cf7-963f-4009-b191-b025355ca392",
   "metadata": {},
   "outputs": [],
   "source": [
    "# Modelo de texto\n",
    "model = Sequential([\n",
    "    Embedding(input_dim=vocab_size, output_dim=embedding_dim, input_length=X_padded.shape[1]),\n",
    "    LSTM(64, return_sequences=True),\n",
    "    LSTM(32),\n",
    "    Dense(len(label_encoder.classes_), activation='softmax')\n",
    "])"
   ]
  },
  {
   "cell_type": "code",
   "execution_count": 16,
   "id": "eadcd3df-c2af-4010-8f9b-73e6c3b1850c",
   "metadata": {},
   "outputs": [],
   "source": [
    "# Compilar el modelo\n",
    "model.compile(optimizer='adam', loss='sparse_categorical_crossentropy', metrics=['accuracy'])"
   ]
  },
  {
   "cell_type": "code",
   "execution_count": null,
   "id": "56548cec-86f3-46d1-a3bf-bcf86d175dfb",
   "metadata": {},
   "outputs": [
    {
     "name": "stdout",
     "output_type": "stream",
     "text": [
      "Epoch 1/10\n"
     ]
    },
    {
     "name": "stderr",
     "output_type": "stream",
     "text": [
      "2024-11-05 20:16:48.077708: W external/local_xla/xla/tsl/framework/cpu_allocator_impl.cc:83] Allocation of 363446000 exceeds 10% of free system memory.\n"
     ]
    },
    {
     "name": "stdout",
     "output_type": "stream",
     "text": [
      "\u001b[1m28395/28395\u001b[0m \u001b[32m━━━━━━━━━━━━━━━━━━━━\u001b[0m\u001b[37m\u001b[0m \u001b[1m0s\u001b[0m 128ms/step - accuracy: 0.3124 - loss: 2.7382"
     ]
    },
    {
     "name": "stderr",
     "output_type": "stream",
     "text": [
      "2024-11-05 21:17:39.665659: W external/local_xla/xla/tsl/framework/cpu_allocator_impl.cc:83] Allocation of 90861600 exceeds 10% of free system memory.\n"
     ]
    }
   ],
   "source": [
    "# Ajustar el modelo\n",
    "model.fit(X_train, y_train, epochs=10, batch_size=32, validation_data=(X_test, y_test))"
   ]
  },
  {
   "cell_type": "code",
   "execution_count": null,
   "id": "873c45be-4ff2-4690-9d4f-916a7290414a",
   "metadata": {},
   "outputs": [],
   "source": []
  }
 ],
 "metadata": {
  "kernelspec": {
   "display_name": "Python 3 (ipykernel)",
   "language": "python",
   "name": "python3"
  },
  "language_info": {
   "codemirror_mode": {
    "name": "ipython",
    "version": 3
   },
   "file_extension": ".py",
   "mimetype": "text/x-python",
   "name": "python",
   "nbconvert_exporter": "python",
   "pygments_lexer": "ipython3",
   "version": "3.11.6"
  }
 },
 "nbformat": 4,
 "nbformat_minor": 5
}
